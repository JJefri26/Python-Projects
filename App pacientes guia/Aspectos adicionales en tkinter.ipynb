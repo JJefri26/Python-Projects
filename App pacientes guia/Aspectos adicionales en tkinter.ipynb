{
 "cells": [
  {
   "cell_type": "markdown",
   "metadata": {},
   "source": [
    "# Aspectos adicionales en tkinter"
   ]
  },
  {
   "cell_type": "markdown",
   "metadata": {},
   "source": [
    "## Multiples ventanas"
   ]
  },
  {
   "cell_type": "code",
   "execution_count": 1,
   "metadata": {},
   "outputs": [],
   "source": [
    "import tkinter as tk\n",
    "import tkinter.ttk as ttk\n",
    "\n",
    "class App:\n",
    "    def __init__(self, master):\n",
    "        self.master = master\n",
    "        self.master.title(\"App Window\")\n",
    "        self.master.geometry(\"400x200+100+100\")\n",
    "        \n",
    "        self.btn = tk.Button(self.master, text=\"Detalles\", width=16, command=self.details_window)\n",
    "        self.btn.pack(padx=20, pady=20)\n",
    "        \n",
    "        \n",
    "    def details_window(self):\n",
    "        window = tk.Toplevel(self.master)\n",
    "        _, x_win_pos, y_win_pos = self.master.geometry().split(\"+\")\n",
    "        \n",
    "        App_Details_Window(window, x_win_pos, y_win_pos)\n",
    "        \n",
    "        \n",
    "        \n",
    "class App_Details_Window:\n",
    "    def __init__(self, master, x_win_pos, y_win_pos):\n",
    "        self.master = master\n",
    "        self.master.title(\"Details Window\")\n",
    "        self.master.geometry(f\"400x200+{int(x_win_pos)+50}+{int(y_win_pos)+50}\")\n",
    "        self.master.grab_set()\n",
    "        self.master.focus()\n",
    "        \n",
    "        self.btn = tk.Button(self.master, text=\"Cerrar\", width=16, command=self.close_window)\n",
    "        self.btn.pack(padx=20, pady=20)\n",
    "        \n",
    "        \n",
    "    def close_window(self):\n",
    "        self.master.destroy()\n",
    "        \n",
    "    \n",
    "root = tk.Tk()\n",
    "app = App(root)\n",
    "root.mainloop()"
   ]
  },
  {
   "cell_type": "markdown",
   "metadata": {},
   "source": [
    "## Estilos en Widgets - Treeview"
   ]
  },
  {
   "cell_type": "code",
   "execution_count": 2,
   "metadata": {},
   "outputs": [
    {
     "ename": "TclError",
     "evalue": "unknown option \"-color\"",
     "output_type": "error",
     "traceback": [
      "\u001b[1;31m---------------------------------------------------------------------------\u001b[0m",
      "\u001b[1;31mTclError\u001b[0m                                  Traceback (most recent call last)",
      "\u001b[1;32m<ipython-input-2-6cbe72c7d05b>\u001b[0m in \u001b[0;36m<module>\u001b[1;34m\u001b[0m\n\u001b[0;32m     50\u001b[0m \u001b[1;33m\u001b[0m\u001b[0m\n\u001b[0;32m     51\u001b[0m \u001b[0mroot\u001b[0m \u001b[1;33m=\u001b[0m \u001b[0mtk\u001b[0m\u001b[1;33m.\u001b[0m\u001b[0mTk\u001b[0m\u001b[1;33m(\u001b[0m\u001b[1;33m)\u001b[0m\u001b[1;33m\u001b[0m\u001b[1;33m\u001b[0m\u001b[0m\n\u001b[1;32m---> 52\u001b[1;33m \u001b[0mapp\u001b[0m \u001b[1;33m=\u001b[0m \u001b[0mApp\u001b[0m\u001b[1;33m(\u001b[0m\u001b[0mroot\u001b[0m\u001b[1;33m)\u001b[0m\u001b[1;33m\u001b[0m\u001b[1;33m\u001b[0m\u001b[0m\n\u001b[0m\u001b[0;32m     53\u001b[0m \u001b[0mroot\u001b[0m\u001b[1;33m.\u001b[0m\u001b[0mmainloop\u001b[0m\u001b[1;33m(\u001b[0m\u001b[1;33m)\u001b[0m\u001b[1;33m\u001b[0m\u001b[1;33m\u001b[0m\u001b[0m\n",
      "\u001b[1;32m<ipython-input-2-6cbe72c7d05b>\u001b[0m in \u001b[0;36m__init__\u001b[1;34m(self, master)\u001b[0m\n\u001b[0;32m     36\u001b[0m         \u001b[1;32mfor\u001b[0m \u001b[0midx\u001b[0m \u001b[1;32min\u001b[0m \u001b[0mrange\u001b[0m\u001b[1;33m(\u001b[0m\u001b[1;36m1\u001b[0m\u001b[1;33m,\u001b[0m \u001b[1;36m10\u001b[0m\u001b[1;33m)\u001b[0m\u001b[1;33m:\u001b[0m\u001b[1;33m\u001b[0m\u001b[1;33m\u001b[0m\u001b[0m\n\u001b[0;32m     37\u001b[0m             \u001b[1;32mif\u001b[0m \u001b[0midx\u001b[0m \u001b[1;33m%\u001b[0m \u001b[1;36m2\u001b[0m \u001b[1;33m==\u001b[0m \u001b[1;36m0\u001b[0m\u001b[1;33m:\u001b[0m\u001b[1;33m\u001b[0m\u001b[1;33m\u001b[0m\u001b[0m\n\u001b[1;32m---> 38\u001b[1;33m                 \u001b[0mself\u001b[0m\u001b[1;33m.\u001b[0m\u001b[0mtable\u001b[0m\u001b[1;33m.\u001b[0m\u001b[0minsert\u001b[0m\u001b[1;33m(\u001b[0m\u001b[1;34m\"\"\u001b[0m\u001b[1;33m,\u001b[0m \u001b[0mtk\u001b[0m\u001b[1;33m.\u001b[0m\u001b[0mEND\u001b[0m\u001b[1;33m,\u001b[0m \u001b[0mtext\u001b[0m\u001b[1;33m=\u001b[0m\u001b[0midx\u001b[0m\u001b[1;33m,\u001b[0m \u001b[0mvalues\u001b[0m\u001b[1;33m=\u001b[0m\u001b[1;33m[\u001b[0m\u001b[1;34mf\"Alumno {idx}\"\u001b[0m\u001b[1;33m,\u001b[0m \u001b[1;34mf\"{random.randrange(0, 20):0>2}\"\u001b[0m\u001b[1;33m]\u001b[0m\u001b[1;33m,\u001b[0m\u001b[0mcolor\u001b[0m\u001b[1;33m=\u001b[0m\u001b[1;34m'red'\u001b[0m\u001b[1;33m,\u001b[0m \u001b[0mtags\u001b[0m\u001b[1;33m=\u001b[0m\u001b[1;33m(\u001b[0m\u001b[1;34m'even'\u001b[0m\u001b[1;33m,\u001b[0m\u001b[1;33m)\u001b[0m\u001b[1;33m)\u001b[0m\u001b[1;33m\u001b[0m\u001b[1;33m\u001b[0m\u001b[0m\n\u001b[0m\u001b[0;32m     39\u001b[0m             \u001b[1;32melse\u001b[0m\u001b[1;33m:\u001b[0m\u001b[1;33m\u001b[0m\u001b[1;33m\u001b[0m\u001b[0m\n\u001b[0;32m     40\u001b[0m                 \u001b[0mself\u001b[0m\u001b[1;33m.\u001b[0m\u001b[0mtable\u001b[0m\u001b[1;33m.\u001b[0m\u001b[0minsert\u001b[0m\u001b[1;33m(\u001b[0m\u001b[1;34m\"\"\u001b[0m\u001b[1;33m,\u001b[0m \u001b[0mtk\u001b[0m\u001b[1;33m.\u001b[0m\u001b[0mEND\u001b[0m\u001b[1;33m,\u001b[0m \u001b[0mtext\u001b[0m\u001b[1;33m=\u001b[0m\u001b[0midx\u001b[0m\u001b[1;33m,\u001b[0m \u001b[0mvalues\u001b[0m\u001b[1;33m=\u001b[0m\u001b[1;33m[\u001b[0m\u001b[1;34mf\"Alumno {idx}\"\u001b[0m\u001b[1;33m,\u001b[0m \u001b[1;34mf\"{random.randrange(0, 20):0>2}\"\u001b[0m\u001b[1;33m]\u001b[0m\u001b[1;33m,\u001b[0m \u001b[0mtags\u001b[0m\u001b[1;33m=\u001b[0m\u001b[1;33m(\u001b[0m\u001b[1;34m'odd'\u001b[0m\u001b[1;33m,\u001b[0m\u001b[1;33m)\u001b[0m\u001b[1;33m)\u001b[0m\u001b[1;33m\u001b[0m\u001b[1;33m\u001b[0m\u001b[0m\n",
      "\u001b[1;32mE:\\anaconda3\\lib\\tkinter\\ttk.py\u001b[0m in \u001b[0;36minsert\u001b[1;34m(self, parent, index, iid, **kw)\u001b[0m\n\u001b[0;32m   1367\u001b[0m                 \"-id\", iid, *opts)\n\u001b[0;32m   1368\u001b[0m         \u001b[1;32melse\u001b[0m\u001b[1;33m:\u001b[0m\u001b[1;33m\u001b[0m\u001b[1;33m\u001b[0m\u001b[0m\n\u001b[1;32m-> 1369\u001b[1;33m             \u001b[0mres\u001b[0m \u001b[1;33m=\u001b[0m \u001b[0mself\u001b[0m\u001b[1;33m.\u001b[0m\u001b[0mtk\u001b[0m\u001b[1;33m.\u001b[0m\u001b[0mcall\u001b[0m\u001b[1;33m(\u001b[0m\u001b[0mself\u001b[0m\u001b[1;33m.\u001b[0m\u001b[0m_w\u001b[0m\u001b[1;33m,\u001b[0m \u001b[1;34m\"insert\"\u001b[0m\u001b[1;33m,\u001b[0m \u001b[0mparent\u001b[0m\u001b[1;33m,\u001b[0m \u001b[0mindex\u001b[0m\u001b[1;33m,\u001b[0m \u001b[1;33m*\u001b[0m\u001b[0mopts\u001b[0m\u001b[1;33m)\u001b[0m\u001b[1;33m\u001b[0m\u001b[1;33m\u001b[0m\u001b[0m\n\u001b[0m\u001b[0;32m   1370\u001b[0m \u001b[1;33m\u001b[0m\u001b[0m\n\u001b[0;32m   1371\u001b[0m         \u001b[1;32mreturn\u001b[0m \u001b[0mres\u001b[0m\u001b[1;33m\u001b[0m\u001b[1;33m\u001b[0m\u001b[0m\n",
      "\u001b[1;31mTclError\u001b[0m: unknown option \"-color\""
     ]
    }
   ],
   "source": [
    "import tkinter as tk\n",
    "import tkinter.ttk as ttk\n",
    "import random\n",
    "\n",
    "# TREEVIEW CON ESTILO (WIDGET STYLES)\n",
    "class App:\n",
    "    def __init__(self, master):\n",
    "        self.master = master\n",
    "        self.master.title(\"Registro Notas\")\n",
    "        self.master.resizable(0, 0)\n",
    "        \n",
    "        frm = tk.Frame()\n",
    "        frm.pack(padx=10, pady=10)\n",
    "        \n",
    "        style = ttk.Style()\n",
    "        style.theme_use('default')\n",
    "        \n",
    "        #style.configure(\"Treeview\", background='white', foreground='black', fieldbackground='white')\n",
    "        style.configure(\"Treeview\",)\n",
    "        style.map(\"Treeview\", background=[('selected', 'blue')])\n",
    "                \n",
    "        self.table = ttk.Treeview(frm, columns=[1, 2])\n",
    "        self.table.pack()\n",
    "        \n",
    "        self.table.heading('#0', text=\"ID\")\n",
    "        self.table.heading('#1', text=\"Nombre\")\n",
    "        self.table.heading('#2', text=\"Nota\")\n",
    "        \n",
    "        self.table.column('#0', width=40, minwidth=30, stretch=tk.NO)\n",
    "        self.table.column('#1', width=150, minwidth=150, stretch=tk.NO)\n",
    "        self.table.column('#2', width=80, minwidth=80, stretch=tk.NO, anchor=tk.CENTER)\n",
    "        \n",
    "        self.table.tag_configure('even', background='#e6f7b2')\n",
    "        self.table.tag_configure('odd', background='#f4fae1')\n",
    "        \n",
    "        for idx in range(1, 10):\n",
    "            if idx % 2 == 0:\n",
    "                self.table.insert(\"\", tk.END, text=idx, values=[f\"Alumno {idx}\", f\"{random.randrange(0, 20):0>2}\"], tags=('even',))\n",
    "            else:\n",
    "                self.table.insert(\"\", tk.END, text=idx, values=[f\"Alumno {idx}\", f\"{random.randrange(0, 20):0>2}\"], tags=('odd',))\n",
    "\n",
    "        self.table.bind(\"<<TreeviewSelect>>\", self.select_record)\n",
    "\n",
    "\n",
    "    def select_record(self, event):\n",
    "        idx = self.table.selection()\n",
    "        print(self.table.item(idx))\n",
    "\n",
    "\n",
    "    \n",
    "root = tk.Tk()\n",
    "app = App(root)\n",
    "root.mainloop()"
   ]
  },
  {
   "cell_type": "code",
   "execution_count": 7,
   "metadata": {},
   "outputs": [
    {
     "name": "stdout",
     "output_type": "stream",
     "text": [
      "14\n"
     ]
    }
   ],
   "source": [
    "print(f\"{random.randrange(0, 20):0>2}\")\n"
   ]
  }
 ],
 "metadata": {
  "kernelspec": {
   "display_name": "Python 3",
   "language": "python",
   "name": "python3"
  },
  "language_info": {
   "codemirror_mode": {
    "name": "ipython",
    "version": 3
   },
   "file_extension": ".py",
   "mimetype": "text/x-python",
   "name": "python",
   "nbconvert_exporter": "python",
   "pygments_lexer": "ipython3",
   "version": "3.8.5"
  }
 },
 "nbformat": 4,
 "nbformat_minor": 4
}
